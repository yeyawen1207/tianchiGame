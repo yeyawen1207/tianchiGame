{
 "metadata": {
  "language_info": {
   "codemirror_mode": {
    "name": "ipython",
    "version": 3
   },
   "file_extension": ".py",
   "mimetype": "text/x-python",
   "name": "python",
   "nbconvert_exporter": "python",
   "pygments_lexer": "ipython3",
   "version": "3.6.5-final"
  },
  "orig_nbformat": 2,
  "kernelspec": {
   "name": "python3",
   "display_name": "Python 3",
   "language": "python"
  }
 },
 "nbformat": 4,
 "nbformat_minor": 2,
 "cells": [
  {
   "cell_type": "code",
   "execution_count": 1,
   "metadata": {},
   "outputs": [],
   "source": [
    "import requests\n",
    "import pandas as pd\n",
    "import pymysql\n",
    "import numpy as np\n",
    "import string\n",
    "from sqlalchemy import create_engine\n",
    "import time"
   ]
  },
  {
   "cell_type": "code",
   "execution_count": 11,
   "metadata": {},
   "outputs": [],
   "source": [
    "# 导入数据\n",
    "def conn_sql(table):\n",
    "    conn = pymysql.connect(\n",
    "        host='60.205.181.110',\n",
    "        port=3306,\n",
    "        user='root',\n",
    "        passwd='941207',\n",
    "        db='tianchi',\n",
    "        use_unicode=True,\n",
    "        charset='utf8',\n",
    "    )\n",
    "    sql_cmd = \"select * from %s\"%table\n",
    "    df = pd.read_sql(sql_cmd, conn)\n",
    "    return df"
   ]
  },
  {
   "cell_type": "code",
   "execution_count": 13,
   "metadata": {},
   "outputs": [
    {
     "output_type": "stream",
     "name": "stdout",
     "text": [
      "Wall time: 0 ns\n"
     ]
    }
   ],
   "source": [
    "%time\n",
    "tarin_data = conn_sql(\"train\")\n",
    "test_data = conn_sql(\"testA\")\n",
    "sample_data = conn_sql(\"sample_submit\")"
   ]
  },
  {
   "cell_type": "code",
   "execution_count": 16,
   "metadata": {},
   "outputs": [
    {
     "output_type": "stream",
     "name": "stdout",
     "text": [
      "(200000, 2)\n"
     ]
    }
   ],
   "source": [
    "print(sample_data.shape)"
   ]
  },
  {
   "cell_type": "code",
   "execution_count": 19,
   "metadata": {},
   "outputs": [
    {
     "output_type": "stream",
     "name": "stdout",
     "text": [
      "<class 'pandas.core.frame.DataFrame'>\nRangeIndex: 800000 entries, 0 to 799999\nData columns (total 47 columns):\n #   Column              Non-Null Count   Dtype \n---  ------              --------------   ----- \n 0   id                  800000 non-null  object\n 1   loanAmnt            800000 non-null  object\n 2   term                800000 non-null  object\n 3   interestRate        800000 non-null  object\n 4   installment         800000 non-null  object\n 5   grade               800000 non-null  object\n 6   subGrade            800000 non-null  object\n 7   employmentTitle     799999 non-null  object\n 8   employmentLength    753201 non-null  object\n 9   homeOwnership       800000 non-null  object\n 10  annualIncome        800000 non-null  object\n 11  verificationStatus  800000 non-null  object\n 12  issueDate           800000 non-null  object\n 13  isDefault           800000 non-null  object\n 14  purpose             800000 non-null  object\n 15  postCode            799999 non-null  object\n 16  regionCode          800000 non-null  object\n 17  dti                 799761 non-null  object\n 18  delinquency_2years  800000 non-null  object\n 19  ficoRangeLow        800000 non-null  object\n 20  ficoRangeHigh       800000 non-null  object\n 21  openAcc             800000 non-null  object\n 22  pubRec              800000 non-null  object\n 23  pubRecBankruptcies  799595 non-null  object\n 24  revolBal            800000 non-null  object\n 25  revolUtil           799469 non-null  object\n 26  totalAcc            800000 non-null  object\n 27  initialListStatus   800000 non-null  object\n 28  applicationType     800000 non-null  object\n 29  earliesCreditLine   800000 non-null  object\n 30  title               799999 non-null  object\n 31  policyCode          800000 non-null  object\n 32  n0                  759730 non-null  object\n 33  n1                  759730 non-null  object\n 34  n2                  759730 non-null  object\n 35  n3                  759730 non-null  object\n 36  n4                  766761 non-null  object\n 37  n5                  759730 non-null  object\n 38  n6                  759730 non-null  object\n 39  n7                  759730 non-null  object\n 40  n8                  759729 non-null  object\n 41  n9                  759730 non-null  object\n 42  n10                 766761 non-null  object\n 43  n11                 730248 non-null  object\n 44  n12                 759730 non-null  object\n 45  n13                 759730 non-null  object\n 46  n14                 759730 non-null  object\ndtypes: object(47)\nmemory usage: 286.9+ MB\n"
     ]
    }
   ],
   "source": [
    "tarin_data.info()"
   ]
  },
  {
   "cell_type": "code",
   "execution_count": null,
   "metadata": {},
   "outputs": [],
   "source": []
  }
 ]
}